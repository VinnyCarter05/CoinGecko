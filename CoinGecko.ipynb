{
 "cells": [
  {
   "cell_type": "code",
   "execution_count": 2,
   "id": "3f2bc24d",
   "metadata": {},
   "outputs": [
    {
     "name": "stdout",
     "output_type": "stream",
     "text": [
      "Defaulting to user installation because normal site-packages is not writeable\r\n",
      "Requirement already satisfied: pycoingecko in /Users/jasonlo/Library/Python/3.8/lib/python/site-packages (2.2.0)\r\n",
      "Requirement already satisfied: requests in /Users/jasonlo/Library/Python/3.8/lib/python/site-packages (from pycoingecko) (2.25.1)\r\n",
      "Requirement already satisfied: certifi>=2017.4.17 in /Users/jasonlo/Library/Python/3.8/lib/python/site-packages (from requests->pycoingecko) (2021.10.8)\r\n",
      "Requirement already satisfied: idna<3,>=2.5 in /Users/jasonlo/Library/Python/3.8/lib/python/site-packages (from requests->pycoingecko) (2.10)\r\n",
      "Requirement already satisfied: chardet<5,>=3.0.2 in /Users/jasonlo/Library/Python/3.8/lib/python/site-packages (from requests->pycoingecko) (4.0.0)\r\n",
      "Requirement already satisfied: urllib3<1.27,>=1.21.1 in /Users/jasonlo/Library/Python/3.8/lib/python/site-packages (from requests->pycoingecko) (1.26.7)\r\n"
     ]
    }
   ],
   "source": [
    "import sys\n",
    "!\"{sys.executable}\" -m pip install pycoingecko"
   ]
  },
  {
   "cell_type": "code",
   "execution_count": 3,
   "id": "9354c3a2",
   "metadata": {},
   "outputs": [],
   "source": [
    "%load_ext autoreload\n",
    "%autoreload 2"
   ]
  },
  {
   "cell_type": "code",
   "execution_count": 4,
   "id": "55338217",
   "metadata": {},
   "outputs": [],
   "source": [
    "import pandas as pd\n",
    "import coingeckokit as cgk\n",
    "import datetime as dt\n",
    "import json\n",
    "import numpy as np"
   ]
  },
  {
   "cell_type": "code",
   "execution_count": 5,
   "id": "f4b607fd",
   "metadata": {},
   "outputs": [],
   "source": [
    "from pycoingecko import CoinGeckoAPI\n",
    "cg = CoinGeckoAPI()\n",
    "MODDAYS = 30 #re download data if more than MODDAYS old"
   ]
  },
  {
   "cell_type": "code",
   "execution_count": 6,
   "id": "4e76671c",
   "metadata": {},
   "outputs": [],
   "source": [
    "exList = cgk.getExchangesList(MODDAYS)\n",
    "supportedCurrencies = cgk.getSupportedCurrencies(MODDAYS)\n",
    "coinsList = cgk.getCoinsList(MODDAYS)"
   ]
  },
  {
   "cell_type": "code",
   "execution_count": null,
   "id": "49234436",
   "metadata": {},
   "outputs": [],
   "source": [
    "def getCoinGeckoId(symbols, forceLower = True):\n",
    "    # get CoinGeckoId from Coin symbol\n",
    "    # set forceLower = False if don't want to get lower case of symbol\n",
    "    cg = CoinGeckoAPI()\n",
    "    coinsList = cg.get_coins_list()\n",
    "    dfCoinsList = pd.DataFrame(coinsList)\n",
    "\n",
    "    ids = []\n",
    "    if type (symbols)!=list:\n",
    "        symbols = [symbols]\n",
    "    for symbol in symbols:\n",
    "        if forceLower:\n",
    "            symbol = symbol.lower()\n",
    "        try:\n",
    "            id = dfCoinsList[dfCoinsList['symbol']==symbol]['id'].iloc[0]\n",
    "            ids.append(id)\n",
    "        except ValueError:\n",
    "            ids.append(np.nan)\n",
    "    return ids"
   ]
  },
  {
   "cell_type": "code",
   "execution_count": null,
   "id": "01ad4a40",
   "metadata": {},
   "outputs": [],
   "source": [
    "symbols = ['BTC','ETH']\n",
    "ids = cgk.getCoinGeckoId(symbols)\n",
    "ids"
   ]
  },
  {
   "cell_type": "code",
   "execution_count": null,
   "id": "b904d83c",
   "metadata": {},
   "outputs": [],
   "source": [
    "symbols = ['BTC', 'LTC', 'PPC', 'NMC', 'XRP', 'AUR', 'DASH', 'nxt', 'BTS', 'XPY', 'ETH', 'STEEM', 'BCH', 'USDT', 'bnb', 'ADA']\n",
    "coins_list_df[coins_list_df['symbol'].isin(symbols)]"
   ]
  },
  {
   "cell_type": "code",
   "execution_count": null,
   "id": "79a5dabc",
   "metadata": {},
   "outputs": [],
   "source": [
    "dt.datetime.now().replace(microsecond=0, hour=0, second=0, minute=0) "
   ]
  },
  {
   "cell_type": "code",
   "execution_count": 131,
   "id": "2229cc81",
   "metadata": {},
   "outputs": [],
   "source": [
    "symbols=['ADA', 'SPA',\n",
    " 'WAVES', 'ZEC', 'FTC', 'SOL', 'MEC', 'STRAT', 'TRX', 'BNB',\n",
    " 'TRMB', 'AMP', 'FRC', 'BCN', 'XPM', 'DASH', 'FCT', 'REP', 'MAID', 'XRP', 'BCH', 'LUNA', 'BCC', 'XPY', 'ETH', 'GNT', 'LTC', 'CNC', 'NSR', 'WDC',\n",
    " 'STO', 'NEO', 'LINK', 'BTC', 'NXT', 'XMR', 'ETC', 'THETA', 'ICP', 'STEEM',\n",
    " 'QRK', 'BLK', 'SHIB', 'LSK', 'PTS', 'WBTC', 'IFC', 'MIOTA', 'XCP', 'EMC', 'TRC', 'BSV', 'CRO', 'DGC', 'DAO', 'EOS', 'TIPS', 'CBX',\n",
    " 'APH', 'TAGZ5', 'AUR', 'XEM', 'BTS', 'LEO', 'XTZ', 'MNC', 'START', 'DOGE', 'NVC', 'OMNI', 'UNI', 'XC','BANX',\n",
    " 'DOT', 'BTG', 'PIVX','YAC',\n",
    " 'XLM','NMC',\n",
    " 'PPC','AVAX',\n",
    " 'DVC']\n",
    "\n",
    "# ids = cgk.getCoinGeckoId(symbols)\n",
    "# df = cgk.getCoinGeckoMarket(symbols, modDays=0,forceLower = True)\n",
    "# ids\n",
    "# df"
   ]
  },
  {
   "cell_type": "code",
   "execution_count": 133,
   "id": "5f134de0",
   "metadata": {},
   "outputs": [
    {
     "name": "stdout",
     "output_type": "stream",
     "text": [
      "loading ADA:cardano\n",
      "loading SPA:sperax\n",
      "loading WAVES:waves\n",
      "loading ZEC:zcash\n",
      "loading FTC:feathercoin\n",
      "loading SOL:solana\n",
      "loading MEC:megacoin\n",
      "loading TRX:tron\n",
      "loading BNB:binancecoin\n",
      "loading AMP:amp-token\n",
      "loading FRC:freicoin\n",
      "loading BCN:bytecoin\n",
      "loading XPM:primecoin\n",
      "loading DASH:dash\n",
      "loading FCT:factom\n",
      "loading REP:augur\n",
      "loading MAID:maidsafecoin\n",
      "loading XRP:ripple\n",
      "loading BCH:bitcoin-cash\n",
      "loading LUNA:terra-luna\n",
      "BCC basis-coin-cash\n",
      "1\n",
      "BCC bitconnect\n",
      "2\n",
      "loading ETH:ethereum\n",
      "loading GNT:greentrust\n",
      "loading LTC:litecoin\n",
      "loading CNC:global-china-cash\n",
      "loading NSR:nushares\n",
      "loading WDC:worldcoin\n",
      "loading STO:storeum\n",
      "loading NEO:neo\n",
      "loading LINK:chainlink\n",
      "loading BTC:bitcoin\n",
      "loading NXT:nxt\n",
      "loading XMR:monero\n",
      "loading ETC:ethereum-classic\n",
      "loading THETA:theta-token\n",
      "loading ICP:internet-computer\n",
      "loading STEEM:steem\n",
      "loading QRK:quark\n",
      "loading BLK:blackcoin\n",
      "loading SHIB:shiba-inu\n",
      "loading LSK:lisk\n",
      "loading WBTC:wrapped-bitcoin\n",
      "loading IFC:infinitecoin\n",
      "loading MIOTA:iota\n",
      "loading XCP:counterparty\n",
      "loading EMC:emercoin\n",
      "loading TRC:terracoin\n",
      "loading BSV:bitcoin-cash-sv\n",
      "loading CRO:crypto-com-chain\n",
      "loading DGC:digitalcoin\n",
      "loading DAO:dao-maker\n",
      "loading EOS:eos\n",
      "loading TIPS:fedoracoin\n",
      "loading CBX:bullion\n",
      "loading APH:apholding-coin\n",
      "loading AUR:aurum\n",
      "loading XEM:nem\n",
      "loading BTS:bitshares\n",
      "loading LEO:leo-token\n",
      "loading XTZ:tezos\n",
      "loading MNC:maincoin\n",
      "loading START:bscstarter\n",
      "loading DOGE:dogecoin\n",
      "loading NVC:novacoin\n",
      "loading OMNI:omni\n",
      "loading UNI:uniswap\n",
      "loading XC:xcom\n",
      "loading DOT:polkadot\n",
      "loading BTG:bitcoin-gold\n",
      "loading PIVX:pivx\n",
      "loading YAC:yacoin\n",
      "loading XLM:stellar\n",
      "loading NMC:namecoin\n",
      "loading PPC:peercoin\n",
      "loading AVAX:avalanche-2\n",
      "loading DVC:dragonvein\n"
     ]
    }
   ],
   "source": [
    "coinsList = cgk.getCoinsList(MODDAYS)\n",
    "dfCoinsList = pd.DataFrame(coinsList)\n",
    "ids = cgk.getCoinGeckoId(symbols)\n"
   ]
  },
  {
   "cell_type": "code",
   "execution_count": 114,
   "id": "9f145c42",
   "metadata": {},
   "outputs": [
    {
     "data": {
      "text/plain": [
       "{'ADA': 'cardano',\n",
       " 'SPA': 'sperax',\n",
       " 'WAVES': 'waves',\n",
       " 'ZEC': 'zcash',\n",
       " 'FTC': 'feathercoin',\n",
       " 'SOL': 'solana',\n",
       " 'MEC': 'megacoin',\n",
       " 'TRX': 'tron',\n",
       " 'BNB': 'binancecoin',\n",
       " 'AMP': 'amp-token',\n",
       " 'FRC': 'freicoin',\n",
       " 'BCN': 'bytecoin',\n",
       " 'XPM': 'primecoin',\n",
       " 'DASH': 'dash',\n",
       " 'FCT': 'factom',\n",
       " 'REP': 'augur',\n",
       " 'MAID': 'maidsafecoin',\n",
       " 'XRP': 'ripple',\n",
       " 'BCH': 'bitcoin-cash',\n",
       " 'LUNA': 'terra-luna',\n",
       " 'ETH': 'ethereum',\n",
       " 'GNT': 'greentrust',\n",
       " 'LTC': 'litecoin',\n",
       " 'CNC': 'global-china-cash',\n",
       " 'NSR': 'nushares',\n",
       " 'WDC': 'worldcoin',\n",
       " 'DVC': 'dragonvein'}"
      ]
     },
     "execution_count": 114,
     "metadata": {},
     "output_type": "execute_result"
    }
   ],
   "source": [
    "ids"
   ]
  },
  {
   "cell_type": "code",
   "execution_count": 24,
   "id": "3630a32b",
   "metadata": {},
   "outputs": [
    {
     "data": {
      "text/html": [
       "<div>\n",
       "<style scoped>\n",
       "    .dataframe tbody tr th:only-of-type {\n",
       "        vertical-align: middle;\n",
       "    }\n",
       "\n",
       "    .dataframe tbody tr th {\n",
       "        vertical-align: top;\n",
       "    }\n",
       "\n",
       "    .dataframe thead th {\n",
       "        text-align: right;\n",
       "    }\n",
       "</style>\n",
       "<table border=\"1\" class=\"dataframe\">\n",
       "  <thead>\n",
       "    <tr style=\"text-align: right;\">\n",
       "      <th></th>\n",
       "      <th>Date</th>\n",
       "      <th>Price</th>\n",
       "      <th>Symbol</th>\n",
       "      <th>Market_Cap</th>\n",
       "      <th>Total_Volume</th>\n",
       "    </tr>\n",
       "  </thead>\n",
       "  <tbody>\n",
       "    <tr>\n",
       "      <th>8062</th>\n",
       "      <td>2021-12-12 23:36:42</td>\n",
       "      <td>2.599721e-09</td>\n",
       "      <td>MEC</td>\n",
       "      <td>0.0</td>\n",
       "      <td>394.977707</td>\n",
       "    </tr>\n",
       "  </tbody>\n",
       "</table>\n",
       "</div>"
      ],
      "text/plain": [
       "                    Date         Price Symbol  Market_Cap  Total_Volume\n",
       "8062 2021-12-12 23:36:42  2.599721e-09    MEC         0.0    394.977707"
      ]
     },
     "execution_count": 24,
     "metadata": {},
     "output_type": "execute_result"
    }
   ],
   "source": [
    "piv = pd.pivot_table (df,values=\"Price\",index=\"Date\",columns=\"Symbol\")\n",
    "df[df['Date']=='2021-12-12 23:36:42']"
   ]
  },
  {
   "cell_type": "code",
   "execution_count": 7,
   "id": "3ac5e6b7",
   "metadata": {},
   "outputs": [
    {
     "name": "stdout",
     "output_type": "stream",
     "text": [
      "Invalid symbol: STRAT\n",
      "Invalid symbol: TRMB\n"
     ]
    },
    {
     "data": {
      "text/html": [
       "<div>\n",
       "<style scoped>\n",
       "    .dataframe tbody tr th:only-of-type {\n",
       "        vertical-align: middle;\n",
       "    }\n",
       "\n",
       "    .dataframe tbody tr th {\n",
       "        vertical-align: top;\n",
       "    }\n",
       "\n",
       "    .dataframe thead th {\n",
       "        text-align: right;\n",
       "    }\n",
       "</style>\n",
       "<table border=\"1\" class=\"dataframe\">\n",
       "  <thead>\n",
       "    <tr style=\"text-align: right;\">\n",
       "      <th></th>\n",
       "      <th>date</th>\n",
       "      <th>price</th>\n",
       "      <th>symbol</th>\n",
       "      <th>market_cap</th>\n",
       "      <th>total_volume</th>\n",
       "    </tr>\n",
       "  </thead>\n",
       "  <tbody>\n",
       "    <tr>\n",
       "      <th>0</th>\n",
       "      <td>2021-05-13 00:00:00</td>\n",
       "      <td>1.933058</td>\n",
       "      <td>ADA</td>\n",
       "      <td>0.0</td>\n",
       "      <td>2.597940e+07</td>\n",
       "    </tr>\n",
       "    <tr>\n",
       "      <th>1</th>\n",
       "      <td>2021-05-14 00:00:00</td>\n",
       "      <td>1.933058</td>\n",
       "      <td>ADA</td>\n",
       "      <td>0.0</td>\n",
       "      <td>2.597940e+07</td>\n",
       "    </tr>\n",
       "    <tr>\n",
       "      <th>2</th>\n",
       "      <td>2021-05-15 00:00:00</td>\n",
       "      <td>2.009956</td>\n",
       "      <td>ADA</td>\n",
       "      <td>0.0</td>\n",
       "      <td>2.020697e+07</td>\n",
       "    </tr>\n",
       "    <tr>\n",
       "      <th>3</th>\n",
       "      <td>2021-05-16 00:00:00</td>\n",
       "      <td>2.191646</td>\n",
       "      <td>ADA</td>\n",
       "      <td>0.0</td>\n",
       "      <td>3.358890e+07</td>\n",
       "    </tr>\n",
       "    <tr>\n",
       "      <th>4</th>\n",
       "      <td>2021-05-17 00:00:00</td>\n",
       "      <td>2.281148</td>\n",
       "      <td>ADA</td>\n",
       "      <td>0.0</td>\n",
       "      <td>2.659651e+07</td>\n",
       "    </tr>\n",
       "    <tr>\n",
       "      <th>...</th>\n",
       "      <td>...</td>\n",
       "      <td>...</td>\n",
       "      <td>...</td>\n",
       "      <td>...</td>\n",
       "      <td>...</td>\n",
       "    </tr>\n",
       "    <tr>\n",
       "      <th>946</th>\n",
       "      <td>2021-12-10 00:00:00</td>\n",
       "      <td>0.004224</td>\n",
       "      <td>DVC</td>\n",
       "      <td>0.0</td>\n",
       "      <td>0.000000e+00</td>\n",
       "    </tr>\n",
       "    <tr>\n",
       "      <th>947</th>\n",
       "      <td>2021-12-11 00:00:00</td>\n",
       "      <td>0.005574</td>\n",
       "      <td>DVC</td>\n",
       "      <td>0.0</td>\n",
       "      <td>0.000000e+00</td>\n",
       "    </tr>\n",
       "    <tr>\n",
       "      <th>948</th>\n",
       "      <td>2021-12-12 00:00:00</td>\n",
       "      <td>0.005574</td>\n",
       "      <td>DVC</td>\n",
       "      <td>0.0</td>\n",
       "      <td>0.000000e+00</td>\n",
       "    </tr>\n",
       "    <tr>\n",
       "      <th>949</th>\n",
       "      <td>2021-12-13 00:00:00</td>\n",
       "      <td>0.005574</td>\n",
       "      <td>DVC</td>\n",
       "      <td>0.0</td>\n",
       "      <td>0.000000e+00</td>\n",
       "    </tr>\n",
       "    <tr>\n",
       "      <th>950</th>\n",
       "      <td>2021-12-13 00:58:47</td>\n",
       "      <td>0.005574</td>\n",
       "      <td>DVC</td>\n",
       "      <td>0.0</td>\n",
       "      <td>0.000000e+00</td>\n",
       "    </tr>\n",
       "  </tbody>\n",
       "</table>\n",
       "<p>24194 rows × 5 columns</p>\n",
       "</div>"
      ],
      "text/plain": [
       "                   date     price symbol  market_cap  total_volume\n",
       "0   2021-05-13 00:00:00  1.933058    ADA         0.0  2.597940e+07\n",
       "1   2021-05-14 00:00:00  1.933058    ADA         0.0  2.597940e+07\n",
       "2   2021-05-15 00:00:00  2.009956    ADA         0.0  2.020697e+07\n",
       "3   2021-05-16 00:00:00  2.191646    ADA         0.0  3.358890e+07\n",
       "4   2021-05-17 00:00:00  2.281148    ADA         0.0  2.659651e+07\n",
       "..                  ...       ...    ...         ...           ...\n",
       "946 2021-12-10 00:00:00  0.004224    DVC         0.0  0.000000e+00\n",
       "947 2021-12-11 00:00:00  0.005574    DVC         0.0  0.000000e+00\n",
       "948 2021-12-12 00:00:00  0.005574    DVC         0.0  0.000000e+00\n",
       "949 2021-12-13 00:00:00  0.005574    DVC         0.0  0.000000e+00\n",
       "950 2021-12-13 00:58:47  0.005574    DVC         0.0  0.000000e+00\n",
       "\n",
       "[24194 rows x 5 columns]"
      ]
     },
     "execution_count": 7,
     "metadata": {},
     "output_type": "execute_result"
    }
   ],
   "source": [
    "dfMarket = pd.DataFrame()\n",
    "ids = cgk.getCoinGeckoId(symbols)\n",
    "for i in range(len(ids)):\n",
    "    try:\n",
    "        data = cg.get_coin_market_chart_by_id(ids[i],'usd',5000)\n",
    "        df = pd.DataFrame(data['prices'],columns=['date','price'])\n",
    "        df['symbol']=symbols[i]\n",
    "        df['date']=pd.to_datetime(df['date']*1000000)\n",
    "        dfMktCap = pd.DataFrame(data['market_caps'], columns=['date','market_cap'])\n",
    "        df['market_cap']=dfMktCap['market_cap']\n",
    "        dfTotVol = pd.DataFrame(data['total_volumes'], columns=['date','total_volume'])\n",
    "        df['total_volume'] = dfTotVol['total_volume']\n",
    "        dfMarket=dfMarket.append(df)\n",
    "    except ValueError:\n",
    "        print (f\"Invalid symbol: {symbols[i]}\")\n",
    "dfMarket\n"
   ]
  },
  {
   "cell_type": "code",
   "execution_count": 38,
   "id": "d2ed863b",
   "metadata": {},
   "outputs": [
    {
     "data": {
      "text/plain": [
       "1"
      ]
     },
     "execution_count": 38,
     "metadata": {},
     "output_type": "execute_result"
    }
   ],
   "source": [
    "(dt.datetime.now()-dt.datetime.fromtimestamp(data['prices'][-3][0]/1000)).days\n"
   ]
  },
  {
   "cell_type": "code",
   "execution_count": 76,
   "id": "21fb227d",
   "metadata": {},
   "outputs": [],
   "source": [
    "data2 = cg.get_coin_market_chart_by_id(ids[i],'usd',2,interval='daily')\n",
    "data2json = json.dumps(data2)\n",
    "data2json\n",
    "data1json = json.dumps(data1)"
   ]
  },
  {
   "cell_type": "code",
   "execution_count": 77,
   "id": "7fb0065b",
   "metadata": {},
   "outputs": [
    {
     "data": {
      "text/plain": [
       "{'market_caps': [[1639267200000, 0.0],\n",
       "  [1639353600000, 0.0],\n",
       "  [1639361084000, 0.0],\n",
       "  [1639353600000, 0.0],\n",
       "  [1639359062000, 0.0]],\n",
       " 'prices': [[1639267200000, 0.005574445388506399],\n",
       "  [1639353600000, 0.005574445388506399],\n",
       "  [1639361084000, 0.005574445388506399],\n",
       "  [1639353600000, 0.005574445388506399],\n",
       "  [1639359062000, 0.005574445388506399]],\n",
       " 'total_volumes': [[1639267200000, 0.0],\n",
       "  [1639353600000, 0.0],\n",
       "  [1639361084000, 0.0],\n",
       "  [1639353600000, 0.0],\n",
       "  [1639359062000, 0.0]]}"
      ]
     },
     "execution_count": 77,
     "metadata": {},
     "output_type": "execute_result"
    }
   ],
   "source": [
    "def FullMergeDict(one, two):\n",
    "  return { key:one.get(key,[])+two.get(key,[]) for key in set(list(one.keys())+list(two.keys())) }\n",
    "\n",
    "data3 = FullMergeDict(data2,data1)\n",
    "data3"
   ]
  },
  {
   "cell_type": "code",
   "execution_count": 79,
   "id": "1b7f8ea2",
   "metadata": {},
   "outputs": [
    {
     "data": {
      "text/plain": [
       "{'prices': [[1639353600000, 0.005574445388506399],\n",
       "  [1639359062000, 0.005574445388506399]],\n",
       " 'market_caps': [[1639353600000, 0.0], [1639359062000, 0.0]],\n",
       " 'total_volumes': [[1639353600000, 0.0], [1639359062000, 0.0]]}"
      ]
     },
     "execution_count": 79,
     "metadata": {},
     "output_type": "execute_result"
    }
   ],
   "source": [
    "data1"
   ]
  },
  {
   "cell_type": "code",
   "execution_count": 78,
   "id": "c276c535",
   "metadata": {},
   "outputs": [
    {
     "data": {
      "text/plain": [
       "{'prices': [[1639267200000, 0.005574445388506399],\n",
       "  [1639353600000, 0.005574445388506399],\n",
       "  [1639361084000, 0.005574445388506399]],\n",
       " 'market_caps': [[1639267200000, 0.0],\n",
       "  [1639353600000, 0.0],\n",
       "  [1639361084000, 0.0]],\n",
       " 'total_volumes': [[1639267200000, 0.0],\n",
       "  [1639353600000, 0.0],\n",
       "  [1639361084000, 0.0]]}"
      ]
     },
     "execution_count": 78,
     "metadata": {},
     "output_type": "execute_result"
    }
   ],
   "source": [
    "data2"
   ]
  },
  {
   "cell_type": "code",
   "execution_count": null,
   "id": "f684ac8c",
   "metadata": {},
   "outputs": [],
   "source": [
    "for i in range(0,len(symbols),50):\n",
    "    price = cg.get_price(ids=symbols[i:i+50], vs_currencies='usd', include_market_cap = True)\n",
    "    print (price)"
   ]
  },
  {
   "cell_type": "code",
   "execution_count": null,
   "id": "98f7d81f",
   "metadata": {},
   "outputs": [],
   "source": [
    "cg.get_coin_history_by_id('pibble','10-10-2018')"
   ]
  },
  {
   "cell_type": "code",
   "execution_count": null,
   "id": "1776fa5f",
   "metadata": {},
   "outputs": [],
   "source": [
    "df=pd.read_json('coingecko-coins-markets.json')\n",
    "df['id'].tolist()"
   ]
  },
  {
   "cell_type": "code",
   "execution_count": null,
   "id": "cff62848",
   "metadata": {},
   "outputs": [],
   "source": [
    "from coingeckokit import STABLECOINS\n",
    "df[df['symbol'].isin(STABLECOINS)]"
   ]
  },
  {
   "cell_type": "code",
   "execution_count": 81,
   "id": "20943e50",
   "metadata": {},
   "outputs": [
    {
     "data": {
      "text/plain": [
       "'ZOC'"
      ]
     },
     "execution_count": 81,
     "metadata": {},
     "output_type": "execute_result"
    }
   ],
   "source": [
    "# data=cg.get_coins_list()\n",
    "for i in range(len(data)):\n",
    "    data[i]['symbol']=data[i]['symbol'].upper()\n",
    "data[0]['symbol']"
   ]
  },
  {
   "cell_type": "code",
   "execution_count": 111,
   "id": "be8230cb",
   "metadata": {},
   "outputs": [
    {
     "data": {
      "text/plain": [
       "{'ADA': 'cardano',\n",
       " 'SPA': 'sperax',\n",
       " 'WAVES': 'waves',\n",
       " 'ZEC': 'zcash',\n",
       " 'FTC': 'feathercoin',\n",
       " 'SOL': 'solana',\n",
       " 'MEC': 'megacoin',\n",
       " 'TRX': 'tron',\n",
       " 'BNB': 'binancecoin',\n",
       " 'AMP': 'amp-token',\n",
       " 'FRC': 'freicoin',\n",
       " 'BCN': 'bytecoin',\n",
       " 'XPM': 'primecoin',\n",
       " 'DASH': 'dash',\n",
       " 'FCT': 'factom',\n",
       " 'REP': 'augur',\n",
       " 'MAID': 'maidsafecoin',\n",
       " 'XRP': 'ripple',\n",
       " 'BCH': 'bitcoin-cash',\n",
       " 'LUNA': 'terra-luna',\n",
       " 'ETH': 'ethereum',\n",
       " 'GNT': 'greentrust',\n",
       " 'LTC': 'litecoin',\n",
       " 'CNC': 'global-china-cash',\n",
       " 'NSR': 'nushares',\n",
       " 'WDC': 'worldcoin',\n",
       " 'DVC': 'dragonvein'}"
      ]
     },
     "execution_count": 111,
     "metadata": {},
     "output_type": "execute_result"
    }
   ],
   "source": [
    "ids"
   ]
  },
  {
   "cell_type": "code",
   "execution_count": 112,
   "id": "28f608e3",
   "metadata": {},
   "outputs": [],
   "source": [
    "file = './data/valid-symbol-id.json'\n",
    "with open (file,'w') as f:\n",
    "    json.dump(ids,f)"
   ]
  },
  {
   "cell_type": "code",
   "execution_count": null,
   "id": "3629d864",
   "metadata": {},
   "outputs": [],
   "source": []
  }
 ],
 "metadata": {
  "kernelspec": {
   "display_name": "jupyterenv",
   "language": "python",
   "name": "jupyterenv"
  },
  "language_info": {
   "codemirror_mode": {
    "name": "ipython",
    "version": 3
   },
   "file_extension": ".py",
   "mimetype": "text/x-python",
   "name": "python",
   "nbconvert_exporter": "python",
   "pygments_lexer": "ipython3",
   "version": "3.8.9"
  }
 },
 "nbformat": 4,
 "nbformat_minor": 5
}
